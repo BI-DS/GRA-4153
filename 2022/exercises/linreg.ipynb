{
 "cells": [
  {
   "cell_type": "code",
   "execution_count": 1,
   "metadata": {
    "pycharm": {
     "name": "#%%\n"
    }
   },
   "outputs": [],
   "source": [
    "import numpy as np\n",
    "import scipy.optimize as spo\n",
    "import scipy.stats as sps\n",
    "import statsmodels.api as sm\n",
    "import statsmodels.formula.api as smf\n",
    "import matplotlib.pyplot as plt\n",
    "from sklearn import datasets as skl_datasets\n",
    "from sklearn import linear_model as skl_lm\n",
    "from sklearn import model_selection as skl_ms\n",
    "\n"
   ]
  },
  {
   "cell_type": "code",
   "execution_count": 3,
   "metadata": {
    "pycharm": {
     "name": "#%%\n"
    }
   },
   "outputs": [
    {
     "name": "stdout",
     "output_type": "stream",
     "text": [
      "3.380015379736423e-08 5.065392549852277e-16\n"
     ]
    }
   ],
   "source": [
    "# (1.1.6) & (1.1.7)\n",
    "\n",
    "def ols(y, X):\n",
    "    return np.linalg.solve(X.T @ X, X.T @ y)\n",
    "\n",
    "def ssr(b, y, X):\n",
    "    e = y - X @ b\n",
    "    return e.T @ e\n",
    "\n",
    "def ols_numerical(y, X):\n",
    "    return spo.minimize(lambda b: ssr(b, y, X), np.zeros(X.shape[1])).x\n",
    "\n",
    "def ols_sm(y, X):\n",
    "    mod = sm.OLS(y, X)\n",
    "    res = mod.fit()\n",
    "    return res.params\n",
    "\n",
    "\n",
    "np.random.seed(5673452)\n",
    "X = np.random.normal(size = (100, 4))\n",
    "y = np.random.normal(size = (100))\n",
    "\n",
    "print(np.sum(np.abs(ols(y, X) - ols_numerical(y, X))),\n",
    "np.sum(np.abs(ols(y, X) - ols_sm(y, X)))\n",
    "      )"
   ]
  },
  {
   "cell_type": "code",
   "execution_count": 70,
   "metadata": {
    "pycharm": {
     "name": "#%%\n"
    }
   },
   "outputs": [
    {
     "name": "stdout",
     "output_type": "stream",
     "text": [
      "[1. 2.]\n",
      "[0.99984777 2.0012884 ]\n",
      "\n",
      "\n",
      "[[ 0.00188761 -0.00016124]\n",
      " [-0.00016124  0.00182909]]\n",
      "[[ 0.00186542 -0.00022051]\n",
      " [-0.00022051  0.00179447]]\n"
     ]
    }
   ],
   "source": [
    "# (1.2.4)\n",
    "\n",
    "np.random.seed(4526453)\n",
    "M = 5000\n",
    "n = 500\n",
    "beta = np.array([1.0, 2.0])\n",
    "X = np.random.normal(size = (n, len(beta)))\n",
    "\n",
    "### Verify X is of full rank\n",
    "# np.linalg.eigvalsh(X.T @ X)\n",
    "\n",
    "Xbeta = X @ beta\n",
    "estimates = np.zeros((M, len(beta)))\n",
    "\n",
    "for m in range(M):\n",
    "    y = Xbeta + np.random.normal(size = n)\n",
    "    estimates[m, :] = ols(y, X).T\n",
    "\n",
    "print(beta)\n",
    "print(estimates.mean(axis = 0))\n",
    "\n",
    "print(\"\\n\")\n",
    "\n",
    "print(np.linalg.solve(X.T @ X, np.eye(2)))\n",
    "print(np.cov(estimates.T))"
   ]
  },
  {
   "cell_type": "code",
   "execution_count": 5,
   "metadata": {
    "pycharm": {
     "name": "#%%\n"
    }
   },
   "outputs": [
    {
     "data": {
      "text/plain": [
       "array([0.00262519, 0.00326152])"
      ]
     },
     "execution_count": 5,
     "metadata": {},
     "output_type": "execute_result"
    }
   ],
   "source": [
    "# (1.2.7)\n",
    "\n",
    "def gls(y, X, V):\n",
    "    return np.linalg.solve(\n",
    "        X.T @ np.linalg.solve(V, X),\n",
    "        X.T @ np.linalg.solve(V, y)\n",
    "        )\n",
    "\n",
    "np.random.seed(4526453)\n",
    "M = 5000\n",
    "n = 500\n",
    "beta = np.array([1.0, 2.0])\n",
    "X = np.random.normal(size = (n, len(beta)))\n",
    "\n",
    "### Verify X is of full rank\n",
    "# np.linalg.eigvalsh(X.T @ X)\n",
    "\n",
    "V = np.diag(np.linalg.norm(X, axis = 1))\n",
    "Xbeta = X @ beta\n",
    "OLS = np.zeros((M, len(beta)))\n",
    "GLS = np.zeros((M, len(beta)))\n",
    "\n",
    "for m in range(M):\n",
    "    y = Xbeta + V @ np.random.normal(size = n)\n",
    "    OLS[m, :] = ols(y, X).T\n",
    "    GLS[m, :] = gls(y, X, V).T\n",
    "\n",
    "Delta = np.cov(OLS.T) - np.cov(GLS.T)\n",
    "np.linalg.eigvalsh(Delta)"
   ]
  },
  {
   "cell_type": "code",
   "execution_count": 6,
   "metadata": {
    "pycharm": {
     "name": "#%%\n"
    }
   },
   "outputs": [
    {
     "data": {
      "image/png": "[encoded data removed]",
      "text/plain": [
       "<Figure size 864x288 with 2 Axes>"
      ]
     },
     "metadata": {
      "needs_background": "light"
     },
     "output_type": "display_data"
    }
   ],
   "source": [
    "# (1.2.11)\n",
    "\n",
    "np.random.seed(908452)\n",
    "M = 100000\n",
    "denom = np.arange(1, M+1)\n",
    "X = np.random.normal(size = M).cumsum() / denom\n",
    "Y = np.random.standard_cauchy(size = M).cumsum() / denom\n",
    "\n",
    "fig, (ax1, ax2) = plt.subplots(1, 2, figsize = (12, 4))\n",
    "ax1.plot(denom, X)\n",
    "ax2.plot(denom, Y, color = \"orange\")\n",
    "plt.show()"
   ]
  },
  {
   "cell_type": "code",
   "execution_count": 14,
   "metadata": {
    "pycharm": {
     "name": "#%%\n"
    }
   },
   "outputs": [
    {
     "data": {
      "image/png": "[encoded data removed]",
      "text/plain": [
       "<Figure size 432x288 with 1 Axes>"
      ]
     },
     "metadata": {
      "needs_background": "light"
     },
     "output_type": "display_data"
    }
   ],
   "source": [
    "# (1.2.12)\n",
    "\n",
    "np.random.seed(5625)\n",
    "M = 5000\n",
    "ns = [200 *i for i in range(1, 11)]\n",
    "\n",
    "beta = np.random.uniform(size = 2)\n",
    "Sigma = np.array([[1.0, 0.7], [0.7, 1.0]])\n",
    "\n",
    "betas = np.zeros(len(ns))\n",
    "out = np.zeros(M)\n",
    "\n",
    "for (i, n) in enumerate(ns):    \n",
    "    \n",
    "    for m in range(M):\n",
    "\n",
    "        X = np.random.multivariate_normal(np.zeros(len(beta)), Sigma, size = n)\n",
    "        e = np.random.standard_t(8, size = n)\n",
    "        y = X @ beta + e\n",
    "        out[m] = np.linalg.norm(ols(y, X) - beta)\n",
    "\n",
    "    betas[i] = out.mean()\n",
    "\n",
    "fig, ax = plt.subplots()\n",
    "ax.plot(ns, betas)\n",
    "plt.xlabel(r\"$n$\")\n",
    "plt.ylabel(r\"$\\|\\hat\\beta_n - \\beta\\|$\")\n",
    "plt.show()"
   ]
  },
  {
   "cell_type": "code",
   "execution_count": 53,
   "metadata": {
    "collapsed": false,
    "pycharm": {
     "name": "#%%\n"
    }
   },
   "outputs": [
    {
     "data": {
      "image/png": "[encoded data removed]",
      "text/plain": [
       "<Figure size 864x288 with 3 Axes>"
      ]
     },
     "metadata": {
      "needs_background": "light"
     },
     "output_type": "display_data"
    }
   ],
   "source": [
    "# (1.2.13)\n",
    "\n",
    "np.random.seed(5625)\n",
    "M = 5000\n",
    "ns = [400 *i for i in range(1, 4)]\n",
    "\n",
    "beta = np.random.uniform(size = (1, 1))\n",
    "Sigma = 0.7\n",
    "\n",
    "betas = np.zeros((len(ns), M))\n",
    "\n",
    "for (i, n) in enumerate(ns):\n",
    "    for m in range(M):\n",
    "        X = np.random.normal(loc = 0, scale = Sigma, size = (n, 1))\n",
    "        e = np.random.standard_t(8, size = (n, 1))\n",
    "        y = X @ beta + e\n",
    "        betas[i, m] = ols(y, X)\n",
    "\n",
    "\n",
    "# # (i) histogram plots of \\hat\\beta_n\n",
    "# fig, axs = plt.subplots(1, 3, figsize = (12, 4))\n",
    "# for (i, n) in enumerate(ns):\n",
    "#     axs[i].hist(betas[i, :], bins = 20, density = True)\n",
    "# plt.show()\n",
    "#\n",
    "# # (ii) histogram plots of \\hat\\beta_n - beta\n",
    "# diff = betas - beta\n",
    "# fig, axs = plt.subplots(1, 3, figsize = (12, 4))\n",
    "# for (i, n) in enumerate(ns):\n",
    "#     axs[i].hist(diff[i, :], bins = 20, density = True)\n",
    "# plt.show()\n",
    "\n",
    "# (iii) histogram plots of \\sqrt{n}(\\hat\\beta_n - beta)\n",
    "diff = betas - beta\n",
    "fig, axs = plt.subplots(1, 3, figsize = (12, 4))\n",
    "for (i, n) in enumerate(ns):\n",
    "    scaled = n**(1/2) * diff[i, :]\n",
    "    axs[i].hist(scaled, bins = 20, density = True)\n",
    "plt.show()"
   ]
  },
  {
   "cell_type": "code",
   "execution_count": 4,
   "metadata": {},
   "outputs": [
    {
     "data": {
      "text/plain": [
       "5.62"
      ]
     },
     "execution_count": 4,
     "metadata": {},
     "output_type": "execute_result"
    }
   ],
   "source": [
    "# (1.12.25)\n",
    "\n",
    "np.random.seed(56253)\n",
    "M = 5000\n",
    "n = 400\n",
    "\n",
    "alpha = 0.05\n",
    "cv = sps.chi2(1).ppf(1-alpha)\n",
    "\n",
    "beta = np.zeros((1,1))\n",
    "Sigma = 0.7\n",
    "\n",
    "rej = 0\n",
    "for m in range(M):\n",
    "    X = np.random.normal(0, Sigma, size = (n, 1))\n",
    "    e = np.random.standard_t(8, size = (n, 1))\n",
    "    y = X @ beta + e\n",
    "\n",
    "    beta_hat = ols(y, X)\n",
    "    e_hat = y - X @ beta_hat\n",
    "    \n",
    "    # Conditionally homoskedastic estimator\n",
    "    # sigma_hat = (e_hat**2).mean()\n",
    "    # Omega_hat = sigma_hat * np.linalg.solve((X.T @ X / n), np.eye(len(beta)))\n",
    "\n",
    "    M_hat = (X**2).mean()\n",
    "    Sigma_hat = ((e_hat * X)**2).mean()\n",
    "    Omega_hat = M_hat**(-2) * Sigma_hat \n",
    "     \n",
    "    W = n * beta_hat**2 / Omega_hat\n",
    "    rej += (W[0,0] > cv)\n",
    "\n",
    "rej / M * 100"
   ]
  },
  {
   "cell_type": "code",
   "execution_count": 5,
   "metadata": {},
   "outputs": [
    {
     "data": {
      "image/png": "[encoded data removed]",
      "text/plain": [
       "<Figure size 432x288 with 1 Axes>"
      ]
     },
     "metadata": {
      "needs_background": "light"
     },
     "output_type": "display_data"
    }
   ],
   "source": [
    "# (1.12.26)\n",
    "\n",
    "np.random.seed(56253)\n",
    "M = 5000\n",
    "n = 400\n",
    "\n",
    "alpha = 0.05\n",
    "cv = sps.chi2(1).ppf(1-alpha)\n",
    "\n",
    "beta0 = np.zeros((1,1))\n",
    "Sigma = 0.7\n",
    "\n",
    "alternatives = np.linspace(-0.5, 0.5, 21)\n",
    "rej = np.zeros(len(alternatives))\n",
    "\n",
    "for (i, beta1) in enumerate(alternatives):\n",
    "    beta = np.array([beta1]).reshape((1, 1))\n",
    "    for m in range(M):\n",
    "        X = np.random.normal(0, Sigma, size = (n, 1))\n",
    "        e = np.random.standard_t(8, size = (n, 1))\n",
    "        y = X @ beta + e\n",
    "\n",
    "        beta_hat = ols(y, X)\n",
    "        e_hat = y - X @ beta_hat\n",
    "        \n",
    "        # Conditionally homoskedastic estimator\n",
    "        # sigma_hat = (e_hat**2).mean()\n",
    "        # Omega_hat = sigma_hat * np.linalg.solve((X.T @ X / n), np.eye(len(beta)))\n",
    "\n",
    "        M_hat = (X**2).mean()\n",
    "        Sigma_hat = ((e_hat * X)**2).mean()\n",
    "        Omega_hat = M_hat**(-2) * Sigma_hat \n",
    "        \n",
    "        W = n * beta_hat**2 / Omega_hat\n",
    "        rej[i] += (W[0,0] > cv)\n",
    "\n",
    "rej /= M\n",
    "\n",
    "fig, ax = plt.subplots()\n",
    "ax.plot(alternatives, rej)\n",
    "ax.axhline(0.05, linestyle = \"--\", color = \"black\", alpha = 0.5)\n",
    "plt.xlabel(r\"$\\beta$\")\n",
    "plt.ylabel(\"Empirical rejection frequency\")\n",
    "plt.show()\n"
   ]
  },
  {
   "cell_type": "code",
   "execution_count": 31,
   "metadata": {},
   "outputs": [
    {
     "name": "stdout",
     "output_type": "stream",
     "text": [
      "                            OLS Regression Results                            \n",
      "==============================================================================\n",
      "Dep. Variable:                 NABOVE   R-squared:                       0.070\n",
      "Model:                            OLS   Adj. R-squared:                  0.057\n",
      "Method:                 Least Squares   F-statistic:                     5.602\n",
      "Date:                Sat, 08 Oct 2022   Prob (F-statistic):           0.000232\n",
      "Time:                        18:40:05   Log-Likelihood:                -2386.0\n",
      "No. Observations:                 303   AIC:                             4782.\n",
      "Df Residuals:                     298   BIC:                             4801.\n",
      "Df Model:                           4                                         \n",
      "Covariance Type:            nonrobust                                         \n",
      "==============================================================================\n",
      "                 coef    std err          t      P>|t|      [0.025      0.975]\n",
      "------------------------------------------------------------------------------\n",
      "Intercept  -1309.9910    713.465     -1.836      0.067   -2714.060      94.078\n",
      "LOWINC        -0.6859      1.877     -0.365      0.715      -4.380       3.008\n",
      "AVYRSEXP      69.4694     21.423      3.243      0.001      27.310     111.629\n",
      "PERSPENK     -58.7297     82.133     -0.715      0.475    -220.365     102.905\n",
      "PTRATIO       42.7226     21.287      2.007      0.046       0.831      84.614\n",
      "==============================================================================\n",
      "Omnibus:                      496.477   Durbin-Watson:                   1.778\n",
      "Prob(Omnibus):                  0.000   Jarque-Bera (JB):           145119.589\n",
      "Skew:                           8.688   Prob(JB):                         0.00\n",
      "Kurtosis:                     108.796   Cond. No.                     1.02e+03\n",
      "==============================================================================\n",
      "\n",
      "Notes:\n",
      "[1] Standard Errors assume that the covariance matrix of the errors is correctly specified.\n",
      "[2] The condition number is large, 1.02e+03. This might indicate that there are\n",
      "strong multicollinearity or other numerical problems.\n",
      "False True\n"
     ]
    }
   ],
   "source": [
    "# (1.2.27)\n",
    "df = sm.datasets.star98.load_pandas().data\n",
    "res = smf.ols(\"NABOVE ~ LOWINC + AVYRSEXP + PERSPENK + PTRATIO\", data = df).fit()\n",
    "print(res.summary())\n",
    "W1 = res.wald_test(np.array([0, 1, 0, 0, 0]), use_f = False, scalar = True).statistic\n",
    "W2 = res.wald_test(np.hstack((np.zeros((4,1)), np.eye(4))), use_f = False, scalar = True).statistic\n",
    "print(W1 > sps.chi2(1).ppf(0.95), W2 > sps.chi2(4).ppf(0.95))"
   ]
  },
  {
   "cell_type": "code",
   "execution_count": 2,
   "metadata": {},
   "outputs": [
    {
     "data": {
      "image/png": "[encoded data removed]",
      "text/plain": [
       "<Figure size 432x288 with 1 Axes>"
      ]
     },
     "metadata": {
      "needs_background": "light"
     },
     "output_type": "display_data"
    },
    {
     "data": {
      "image/png": "[encoded data removed]",
      "text/plain": [
       "<Figure size 432x288 with 1 Axes>"
      ]
     },
     "metadata": {
      "needs_background": "light"
     },
     "output_type": "display_data"
    },
    {
     "name": "stdout",
     "output_type": "stream",
     "text": [
      "lasso beta =  [ 0.         -0.         23.79546748  8.69142511 -0.         -0.\n",
      " -5.01317558  0.         20.67777633  0.        ] \n",
      " ridge beta =  [ 0.96733822 -6.19950427 18.17586473 11.61041211 -0.70133581 -2.75149153\n",
      " -8.2997453   5.80111004 15.56778817  5.28037228] \n",
      " ols beta =  [ -0.47623169 -11.40703082  24.72625713  15.42967916 -37.68035801\n",
      "  22.67648701   4.80620008   8.422084    35.73471316   3.21661161]\n"
     ]
    }
   ],
   "source": [
    "# (1.4.11)\n",
    "X, y = skl_datasets.load_diabetes(return_X_y=True)\n",
    "X /= X.std(axis=0) # normalise scales\n",
    "n = y.shape[0]\n",
    "\n",
    "# OLS\n",
    "ols = skl_lm.LinearRegression(fit_intercept=False).fit(X, y)\n",
    "\n",
    "# Lasso regression w/ LOOCCV chosen parameter \n",
    "lasso = skl_lm.LassoCV(fit_intercept=False, cv = skl_ms.LeaveOneOut()).fit(X, y)\n",
    "lasso_cv = lasso.mse_path_.mean(axis = 1) / n\n",
    "lambdas = lasso.alphas_\n",
    "\n",
    "fig, ax = plt.subplots()\n",
    "ax.plot(lambdas, lasso_cv, color = \"tab:orange\", linestyle = \"-.\", label = \"LASSO\")\n",
    "ax.scatter(lasso.alpha_, lasso_cv[np.where(lasso.alpha_ == lambdas)[0][0]], color = \"tab:orange\")\n",
    "plt.legend()\n",
    "plt.xlabel(r\"$\\lambda$\")\n",
    "plt.tight_layout()\n",
    "plt.show()\n",
    "\n",
    "# Ridge regression w/ LOOCCV chosen parameter \n",
    "lambdas = np.linspace(0.01, 400, 101)\n",
    "ridge = skl_lm.RidgeCV(lambdas, fit_intercept=False, store_cv_values=True).fit(X, y)\n",
    "ridge_cv = ridge.cv_values_.mean(axis = 0) / n\n",
    "\n",
    "fig, ax = plt.subplots()\n",
    "ax.plot(lambdas, ridge_cv, color = \"tab:blue\", linestyle = \"--\", label = \"Ridge\")\n",
    "ax.scatter(ridge.alpha_, ridge_cv[np.where(ridge.alpha_ == lambdas)[0][0]], color = \"tab:blue\")\n",
    "plt.legend()\n",
    "plt.xlabel(r\"$\\lambda$\")\n",
    "plt.tight_layout()\n",
    "plt.show()\n",
    "\n",
    "print(\"lasso beta = \",  lasso.coef_, \"\\n\", \"ridge beta = \", ridge.coef_, \"\\n\", \"ols beta = \", ols.coef_)\n"
   ]
  }
 ],
 "metadata": {
  "kernelspec": {
   "display_name": "Python 3.10.4 ('py310')",
   "language": "python",
   "name": "python3"
  },
  "language_info": {
   "codemirror_mode": {
    "name": "ipython",
    "version": 3
   },
   "file_extension": ".py",
   "mimetype": "text/x-python",
   "name": "python",
   "nbconvert_exporter": "python",
   "pygments_lexer": "ipython3",
   "version": "3.10.4"
  },
  "orig_nbformat": 4,
  "vscode": {
   "interpreter": {
    "hash": "9cc70204b29e50dad6f2d5cfad4493e55c09854a2d065190583519add6f09c9d"
   }
  }
 },
 "nbformat": 4,
 "nbformat_minor": 2
}

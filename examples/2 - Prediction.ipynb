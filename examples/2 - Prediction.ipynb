{
 "cells": [
  {
   "cell_type": "markdown",
   "metadata": {},
   "source": [
    "# Prediction"
   ]
  },
  {
   "cell_type": "markdown",
   "metadata": {},
   "source": [
    "We have so far focused on estimation of $\\beta$ and inference on functions of $\\beta$ in the model:\n",
    "\n",
    "$$ y_i = X_i' \\beta + \\epsilon_i, \\qquad \\mathbb{E}[\\epsilon_i |X_i] = 0$$"
   ]
  },
  {
   "cell_type": "markdown",
   "metadata": {},
   "source": [
    "Another common task is prediction. Lets say we wish to predict some variable $y\\in \\R$, based on the variables $X = (X_1, \\ldots, X_K)$.\n",
    "\n",
    "One prediction rule, based on the linear regression model we have already studied is the rule $y = X' \\hat{\\beta}$.\n",
    "\n",
    "How do we evaluate predictors?\n",
    "\n",
    "The most commonly used criterion is the mean squared error or MSE. For a given prediction rule $f(X)$, the MSE is \n",
    "\n",
    "$$ MSE(f) = \\mathbb{E}\\left[y - f(X)\\right]^2 $$\n",
    "\n",
    "It turns out that this is minimised by $f(X) = \\mathbb{E}[y|X]$.\n",
    "\n",
    "There is an important special case when this will coincide with the OLS prediction: if the linear model above is true. In the context of prediction this is often written in the alternative (but equivalent) form:\n",
    "\n",
    "$$ \\mathbb{E}[y_i | X_i] = X_i' \\beta $$\n",
    "\n",
    "In this case, the optimal prediction rule is just $f(X) = X' \\beta$. Of course, we do not know $\\beta$ but we can replace it with $\\hat{\\beta}$."
   ]
  },
  {
   "cell_type": "code",
   "execution_count": 116,
   "metadata": {},
   "outputs": [
    {
     "data": {
      "text/html": [
       "<div>\n",
       "<style scoped>\n",
       "    .dataframe tbody tr th:only-of-type {\n",
       "        vertical-align: middle;\n",
       "    }\n",
       "\n",
       "    .dataframe tbody tr th {\n",
       "        vertical-align: top;\n",
       "    }\n",
       "\n",
       "    .dataframe thead th {\n",
       "        text-align: right;\n",
       "    }\n",
       "</style>\n",
       "<table border=\"1\" class=\"dataframe\">\n",
       "  <thead>\n",
       "    <tr style=\"text-align: right;\">\n",
       "      <th></th>\n",
       "      <th>const</th>\n",
       "      <th>crim</th>\n",
       "      <th>zn</th>\n",
       "      <th>indus</th>\n",
       "      <th>chas</th>\n",
       "      <th>nox</th>\n",
       "      <th>rm</th>\n",
       "      <th>age</th>\n",
       "      <th>dis</th>\n",
       "      <th>rad</th>\n",
       "      <th>tax</th>\n",
       "      <th>ptratio</th>\n",
       "      <th>black</th>\n",
       "      <th>lstat</th>\n",
       "      <th>medv</th>\n",
       "    </tr>\n",
       "  </thead>\n",
       "  <tbody>\n",
       "    <tr>\n",
       "      <th>0</th>\n",
       "      <td>1.0</td>\n",
       "      <td>0.00632</td>\n",
       "      <td>18.0</td>\n",
       "      <td>2.31</td>\n",
       "      <td>0</td>\n",
       "      <td>0.538</td>\n",
       "      <td>6.575</td>\n",
       "      <td>65.2</td>\n",
       "      <td>4.0900</td>\n",
       "      <td>1</td>\n",
       "      <td>296</td>\n",
       "      <td>15.3</td>\n",
       "      <td>396.90</td>\n",
       "      <td>4.98</td>\n",
       "      <td>24.0</td>\n",
       "    </tr>\n",
       "    <tr>\n",
       "      <th>1</th>\n",
       "      <td>1.0</td>\n",
       "      <td>0.02731</td>\n",
       "      <td>0.0</td>\n",
       "      <td>7.07</td>\n",
       "      <td>0</td>\n",
       "      <td>0.469</td>\n",
       "      <td>6.421</td>\n",
       "      <td>78.9</td>\n",
       "      <td>4.9671</td>\n",
       "      <td>2</td>\n",
       "      <td>242</td>\n",
       "      <td>17.8</td>\n",
       "      <td>396.90</td>\n",
       "      <td>9.14</td>\n",
       "      <td>21.6</td>\n",
       "    </tr>\n",
       "    <tr>\n",
       "      <th>2</th>\n",
       "      <td>1.0</td>\n",
       "      <td>0.02729</td>\n",
       "      <td>0.0</td>\n",
       "      <td>7.07</td>\n",
       "      <td>0</td>\n",
       "      <td>0.469</td>\n",
       "      <td>7.185</td>\n",
       "      <td>61.1</td>\n",
       "      <td>4.9671</td>\n",
       "      <td>2</td>\n",
       "      <td>242</td>\n",
       "      <td>17.8</td>\n",
       "      <td>392.83</td>\n",
       "      <td>4.03</td>\n",
       "      <td>34.7</td>\n",
       "    </tr>\n",
       "    <tr>\n",
       "      <th>3</th>\n",
       "      <td>1.0</td>\n",
       "      <td>0.03237</td>\n",
       "      <td>0.0</td>\n",
       "      <td>2.18</td>\n",
       "      <td>0</td>\n",
       "      <td>0.458</td>\n",
       "      <td>6.998</td>\n",
       "      <td>45.8</td>\n",
       "      <td>6.0622</td>\n",
       "      <td>3</td>\n",
       "      <td>222</td>\n",
       "      <td>18.7</td>\n",
       "      <td>394.63</td>\n",
       "      <td>2.94</td>\n",
       "      <td>33.4</td>\n",
       "    </tr>\n",
       "    <tr>\n",
       "      <th>4</th>\n",
       "      <td>1.0</td>\n",
       "      <td>0.06905</td>\n",
       "      <td>0.0</td>\n",
       "      <td>2.18</td>\n",
       "      <td>0</td>\n",
       "      <td>0.458</td>\n",
       "      <td>7.147</td>\n",
       "      <td>54.2</td>\n",
       "      <td>6.0622</td>\n",
       "      <td>3</td>\n",
       "      <td>222</td>\n",
       "      <td>18.7</td>\n",
       "      <td>396.90</td>\n",
       "      <td>5.33</td>\n",
       "      <td>36.2</td>\n",
       "    </tr>\n",
       "  </tbody>\n",
       "</table>\n",
       "</div>"
      ],
      "text/plain": [
       "   const     crim    zn  indus  chas    nox     rm   age     dis  rad  tax  \\\n",
       "0    1.0  0.00632  18.0   2.31     0  0.538  6.575  65.2  4.0900    1  296   \n",
       "1    1.0  0.02731   0.0   7.07     0  0.469  6.421  78.9  4.9671    2  242   \n",
       "2    1.0  0.02729   0.0   7.07     0  0.469  7.185  61.1  4.9671    2  242   \n",
       "3    1.0  0.03237   0.0   2.18     0  0.458  6.998  45.8  6.0622    3  222   \n",
       "4    1.0  0.06905   0.0   2.18     0  0.458  7.147  54.2  6.0622    3  222   \n",
       "\n",
       "   ptratio   black  lstat  medv  \n",
       "0     15.3  396.90   4.98  24.0  \n",
       "1     17.8  396.90   9.14  21.6  \n",
       "2     17.8  392.83   4.03  34.7  \n",
       "3     18.7  394.63   2.94  33.4  \n",
       "4     18.7  396.90   5.33  36.2  "
      ]
     },
     "execution_count": 116,
     "metadata": {},
     "output_type": "execute_result"
    }
   ],
   "source": [
    "import numpy as np\n",
    "import pandas as pd\n",
    "import statsmodels.api as sm\n",
    "import matplotlib.pyplot as plt\n",
    "\n",
    "# Load Boston housing dataset\n",
    "\n",
    "df = sm.datasets.get_rdataset(\"Boston\", \"MASS\").data\n",
    "df = sm.add_constant(df)\n",
    "df.head()"
   ]
  },
  {
   "cell_type": "markdown",
   "metadata": {},
   "source": [
    "This dataset contains median values of house price values in Boston, \"medv\" and a number of factors which may influence house prices. \n",
    "\n",
    "We'll split the data into two parts: one part to fit our model on and a second part to evaluate the model on."
   ]
  },
  {
   "cell_type": "code",
   "execution_count": 117,
   "metadata": {},
   "outputs": [
    {
     "data": {
      "text/html": [
       "<table class=\"simpletable\">\n",
       "<caption>OLS Regression Results</caption>\n",
       "<tr>\n",
       "  <th>Dep. Variable:</th>          <td>medv</td>       <th>  R-squared:         </th> <td>   0.744</td> \n",
       "</tr>\n",
       "<tr>\n",
       "  <th>Model:</th>                   <td>OLS</td>       <th>  Adj. R-squared:    </th> <td>   0.735</td> \n",
       "</tr>\n",
       "<tr>\n",
       "  <th>Method:</th>             <td>Least Squares</td>  <th>  F-statistic:       </th> <td>   87.24</td> \n",
       "</tr>\n",
       "<tr>\n",
       "  <th>Date:</th>             <td>Sun, 09 Oct 2022</td> <th>  Prob (F-statistic):</th> <td>8.24e-107</td>\n",
       "</tr>\n",
       "<tr>\n",
       "  <th>Time:</th>                 <td>11:16:32</td>     <th>  Log-Likelihood:    </th> <td> -1195.5</td> \n",
       "</tr>\n",
       "<tr>\n",
       "  <th>No. Observations:</th>      <td>   405</td>      <th>  AIC:               </th> <td>   2419.</td> \n",
       "</tr>\n",
       "<tr>\n",
       "  <th>Df Residuals:</th>          <td>   391</td>      <th>  BIC:               </th> <td>   2475.</td> \n",
       "</tr>\n",
       "<tr>\n",
       "  <th>Df Model:</th>              <td>    13</td>      <th>                     </th>     <td> </td>    \n",
       "</tr>\n",
       "<tr>\n",
       "  <th>Covariance Type:</th>      <td>nonrobust</td>    <th>                     </th>     <td> </td>    \n",
       "</tr>\n",
       "</table>\n",
       "<table class=\"simpletable\">\n",
       "<tr>\n",
       "     <td></td>        <th>coef</th>     <th>std err</th>      <th>t</th>      <th>P>|t|</th>  <th>[0.025</th>    <th>0.975]</th>  \n",
       "</tr>\n",
       "<tr>\n",
       "  <th>const</th>   <td>   34.4539</td> <td>    5.597</td> <td>    6.156</td> <td> 0.000</td> <td>   23.450</td> <td>   45.457</td>\n",
       "</tr>\n",
       "<tr>\n",
       "  <th>crim</th>    <td>   -0.0773</td> <td>    0.041</td> <td>   -1.879</td> <td> 0.061</td> <td>   -0.158</td> <td>    0.004</td>\n",
       "</tr>\n",
       "<tr>\n",
       "  <th>zn</th>      <td>    0.0487</td> <td>    0.015</td> <td>    3.342</td> <td> 0.001</td> <td>    0.020</td> <td>    0.077</td>\n",
       "</tr>\n",
       "<tr>\n",
       "  <th>indus</th>   <td>    0.0561</td> <td>    0.068</td> <td>    0.829</td> <td> 0.408</td> <td>   -0.077</td> <td>    0.189</td>\n",
       "</tr>\n",
       "<tr>\n",
       "  <th>chas</th>    <td>    1.8323</td> <td>    1.023</td> <td>    1.791</td> <td> 0.074</td> <td>   -0.179</td> <td>    3.844</td>\n",
       "</tr>\n",
       "<tr>\n",
       "  <th>nox</th>     <td>  -17.2680</td> <td>    4.201</td> <td>   -4.111</td> <td> 0.000</td> <td>  -25.527</td> <td>   -9.009</td>\n",
       "</tr>\n",
       "<tr>\n",
       "  <th>rm</th>      <td>    4.0357</td> <td>    0.457</td> <td>    8.837</td> <td> 0.000</td> <td>    3.138</td> <td>    4.933</td>\n",
       "</tr>\n",
       "<tr>\n",
       "  <th>age</th>     <td>    0.0007</td> <td>    0.015</td> <td>    0.050</td> <td> 0.960</td> <td>   -0.028</td> <td>    0.030</td>\n",
       "</tr>\n",
       "<tr>\n",
       "  <th>dis</th>     <td>   -1.4003</td> <td>    0.220</td> <td>   -6.377</td> <td> 0.000</td> <td>   -1.832</td> <td>   -0.969</td>\n",
       "</tr>\n",
       "<tr>\n",
       "  <th>rad</th>     <td>    0.2507</td> <td>    0.074</td> <td>    3.375</td> <td> 0.001</td> <td>    0.105</td> <td>    0.397</td>\n",
       "</tr>\n",
       "<tr>\n",
       "  <th>tax</th>     <td>   -0.0119</td> <td>    0.004</td> <td>   -2.829</td> <td> 0.005</td> <td>   -0.020</td> <td>   -0.004</td>\n",
       "</tr>\n",
       "<tr>\n",
       "  <th>ptratio</th> <td>   -0.9989</td> <td>    0.143</td> <td>   -6.985</td> <td> 0.000</td> <td>   -1.280</td> <td>   -0.718</td>\n",
       "</tr>\n",
       "<tr>\n",
       "  <th>black</th>   <td>    0.0101</td> <td>    0.003</td> <td>    3.193</td> <td> 0.002</td> <td>    0.004</td> <td>    0.016</td>\n",
       "</tr>\n",
       "<tr>\n",
       "  <th>lstat</th>   <td>   -0.4933</td> <td>    0.055</td> <td>   -8.960</td> <td> 0.000</td> <td>   -0.602</td> <td>   -0.385</td>\n",
       "</tr>\n",
       "</table>\n",
       "<table class=\"simpletable\">\n",
       "<tr>\n",
       "  <th>Omnibus:</th>       <td>144.462</td> <th>  Durbin-Watson:     </th> <td>   1.129</td> \n",
       "</tr>\n",
       "<tr>\n",
       "  <th>Prob(Omnibus):</th> <td> 0.000</td>  <th>  Jarque-Bera (JB):  </th> <td> 682.530</td> \n",
       "</tr>\n",
       "<tr>\n",
       "  <th>Skew:</th>          <td> 1.478</td>  <th>  Prob(JB):          </th> <td>6.17e-149</td>\n",
       "</tr>\n",
       "<tr>\n",
       "  <th>Kurtosis:</th>      <td> 8.631</td>  <th>  Cond. No.          </th> <td>1.48e+04</td> \n",
       "</tr>\n",
       "</table><br/><br/>Notes:<br/>[1] Standard Errors assume that the covariance matrix of the errors is correctly specified.<br/>[2] The condition number is large, 1.48e+04. This might indicate that there are<br/>strong multicollinearity or other numerical problems."
      ],
      "text/plain": [
       "<class 'statsmodels.iolib.summary.Summary'>\n",
       "\"\"\"\n",
       "                            OLS Regression Results                            \n",
       "==============================================================================\n",
       "Dep. Variable:                   medv   R-squared:                       0.744\n",
       "Model:                            OLS   Adj. R-squared:                  0.735\n",
       "Method:                 Least Squares   F-statistic:                     87.24\n",
       "Date:                Sun, 09 Oct 2022   Prob (F-statistic):          8.24e-107\n",
       "Time:                        11:16:32   Log-Likelihood:                -1195.5\n",
       "No. Observations:                 405   AIC:                             2419.\n",
       "Df Residuals:                     391   BIC:                             2475.\n",
       "Df Model:                          13                                         \n",
       "Covariance Type:            nonrobust                                         \n",
       "==============================================================================\n",
       "                 coef    std err          t      P>|t|      [0.025      0.975]\n",
       "------------------------------------------------------------------------------\n",
       "const         34.4539      5.597      6.156      0.000      23.450      45.457\n",
       "crim          -0.0773      0.041     -1.879      0.061      -0.158       0.004\n",
       "zn             0.0487      0.015      3.342      0.001       0.020       0.077\n",
       "indus          0.0561      0.068      0.829      0.408      -0.077       0.189\n",
       "chas           1.8323      1.023      1.791      0.074      -0.179       3.844\n",
       "nox          -17.2680      4.201     -4.111      0.000     -25.527      -9.009\n",
       "rm             4.0357      0.457      8.837      0.000       3.138       4.933\n",
       "age            0.0007      0.015      0.050      0.960      -0.028       0.030\n",
       "dis           -1.4003      0.220     -6.377      0.000      -1.832      -0.969\n",
       "rad            0.2507      0.074      3.375      0.001       0.105       0.397\n",
       "tax           -0.0119      0.004     -2.829      0.005      -0.020      -0.004\n",
       "ptratio       -0.9989      0.143     -6.985      0.000      -1.280      -0.718\n",
       "black          0.0101      0.003      3.193      0.002       0.004       0.016\n",
       "lstat         -0.4933      0.055     -8.960      0.000      -0.602      -0.385\n",
       "==============================================================================\n",
       "Omnibus:                      144.462   Durbin-Watson:                   1.129\n",
       "Prob(Omnibus):                  0.000   Jarque-Bera (JB):              682.530\n",
       "Skew:                           1.478   Prob(JB):                    6.17e-149\n",
       "Kurtosis:                       8.631   Cond. No.                     1.48e+04\n",
       "==============================================================================\n",
       "\n",
       "Notes:\n",
       "[1] Standard Errors assume that the covariance matrix of the errors is correctly specified.\n",
       "[2] The condition number is large, 1.48e+04. This might indicate that there are\n",
       "strong multicollinearity or other numerical problems.\n",
       "\"\"\""
      ]
     },
     "execution_count": 117,
     "metadata": {},
     "output_type": "execute_result"
    }
   ],
   "source": [
    "# Split into training and test samples\n",
    "\n",
    "ratio = 0.2\n",
    "n = df.shape[0]\n",
    "n_test = int(np.floor(ratio * n))\n",
    "n_train = n - n_test\n",
    "\n",
    "ind_test = np.random.choice(range(n), size = n_test, replace=False)\n",
    "df_test = df.iloc[ind_test, :]\n",
    "df_train = df.loc[~df.index.isin(ind_test), :]\n",
    "\n",
    "# Fit model\n",
    "mod = sm.OLS(df_train.loc[:, \"medv\"], df_train.loc[:, [x for x in df_train.columns if x != \"medv\"]]).fit()\n",
    "mod.summary()\n"
   ]
  },
  {
   "cell_type": "markdown",
   "metadata": {},
   "source": [
    "Now lets evaluate our prediction error:"
   ]
  },
  {
   "cell_type": "code",
   "execution_count": 118,
   "metadata": {},
   "outputs": [
    {
     "data": {
      "image/png": "[encoded data removed]",
      "text/plain": [
       "<Figure size 432x288 with 1 Axes>"
      ]
     },
     "metadata": {
      "needs_background": "light"
     },
     "output_type": "display_data"
    },
    {
     "name": "stdout",
     "output_type": "stream",
     "text": [
      "MSE =  24.65185474485358\n"
     ]
    }
   ],
   "source": [
    "fig, ax = plt.subplots()\n",
    "ax.scatter(df_test.loc[:, \"medv\"], mod.predict(df_test.loc[:, [x for x in df_train.columns if x != \"medv\"]]))\n",
    "ax.plot(range(50), range(50), linestyle = \"--\", color = \"black\", alpha = 0.5)\n",
    "ax.set_xlabel(r\"$y$\")\n",
    "ax.set_ylabel(r\"$\\hat{y} = X' \\beta$\")\n",
    "plt.show()\n",
    "\n",
    "err = np.square(df_test.loc[:, \"medv\"] - mod.predict(df_test.loc[:, [x for x in df_train.columns if x != \"medv\"]])).mean()\n",
    "print(\"MSE = \", err)"
   ]
  },
  {
   "cell_type": "markdown",
   "metadata": {},
   "source": [
    "Even if we assume a linear model, we need not use the OLS estimator of $\\beta$ in our prediction rule. There are other estimators which can beat the OLS estimator in terms of MSE in certain situations. Additionally, many of these allow us to have more covariates than observations - which OLS does not allow. \n",
    "\n",
    "The performance gains over OLS come by exploiting what is called the \"bias - variance tradeoff\". We can decompose the (mean - squared) error in estimating $\\beta$ into two parts:\n",
    "\n",
    "$$ \\mathbb{E}[\\check{\\beta} - \\beta] = (\\mathbb{E}[\\check{\\beta}] - \\beta)^2 + \\operatorname{Var}(\\check{\\beta}) $$\n",
    "\n",
    "The OLS estimator of $\\beta$ is unbiased (under conditions we discussed in the lectures). We may however be able to do better by using a biased estimator with smaller variance, if the amount of bias it adds is small relative to the reduction in the variance."
   ]
  },
  {
   "cell_type": "markdown",
   "metadata": {},
   "source": [
    "One general principle for doing this is called \"regularisation\" or \"penalisation\". Rather than estimating $\\beta$ as the solution which minimises\n",
    "\n",
    "$$ \\|y - X\\beta \\|^2$$\n",
    "\n",
    "instead we minimise\n",
    "\n",
    "$$ \\|y - X\\beta \\|^2 + \\lambda \\text{pen}(\\beta)$$\n",
    "\n",
    "where $\\lambda$ is the _penalty parameter_ and $\\text{pen}$ is a _penalty function_ which penalises certain aspects of $\\beta$. The two most commonly used penalty functions are (functions of) norms:\n",
    "\n",
    "$$\\text{pen}(\\beta) = \\|\\beta\\|_1 \\qquad \\text{ or } \\qquad \\text{pen}(\\beta) = \\|\\beta\\|^2_2$$\n",
    "\n",
    "The former leads to the LASSO estimator and the latter to the Ridge estimator.\n",
    "\n",
    "The Ridge estimator has an explicit form (just like OLS):\n",
    "\n",
    "$$\\check{\\beta} = (X'X + \\lambda I)^{-1} X'y $$\n",
    "\n",
    "Below we plot the mean squared error in estimating $\\beta$ (and its decomposition into bias squared and variance) of the ridge estimator against the mean squared error of the OLS estimator:"
   ]
  },
  {
   "cell_type": "code",
   "execution_count": 5,
   "metadata": {},
   "outputs": [
    {
     "data": {
      "image/png": "[encoded data removed]",
      "text/plain": [
       "<Figure size 432x288 with 1 Axes>"
      ]
     },
     "metadata": {
      "needs_background": "light"
     },
     "output_type": "display_data"
    }
   ],
   "source": [
    "\n",
    "np.random.seed(5234)\n",
    "\n",
    "n = 400\n",
    "K = 4\n",
    "beta = np.random.uniform(size = K)\n",
    "A = np.random.standard_normal((K, K))\n",
    "Omega = A @ A.T / 4\n",
    "I_K = np.eye(K)\n",
    "\n",
    "X =  np.random.standard_normal((n, K)) @ np.linalg.cholesky(Omega).T\n",
    "X /= X.std(axis=0) # normalise scales\n",
    "XX = X.T @ X\n",
    "\n",
    "sigma = 1.0\n",
    "Sigma_ols = sigma * np.linalg.solve(XX, I_K)\n",
    "mse_ols = np.diag(Sigma_ols).sum()\n",
    "\n",
    "lambdas = np.linspace(0, 150, 201)\n",
    "bias_ridge = np.array([np.linalg.norm(-lambd *  np.linalg.solve(XX + lambd * I_K, beta)) for lambd in lambdas])\n",
    "var_ridge = np.array([sigma * np.diag(np.linalg.solve(XX + lambd * I_K, XX) @ np.linalg.solve(XX + lambd * I_K, I_K)).sum() for lambd in lambdas])\n",
    "\n",
    "fig, ax = plt.subplots()\n",
    "ax.plot(lambdas, bias_ridge**2, color = \"mediumturquoise\", alpha = 0.6, linestyle = \"--\", label = \"squared bias\")\n",
    "ax.plot(lambdas, var_ridge, color = \"lightskyblue\", alpha = 0.6, linestyle = \"-.\", label = \"variance\")\n",
    "ax.plot(lambdas, bias_ridge**2 + var_ridge, color = \"blue\", label = \"MSE\")\n",
    "ax.axhline(mse_ols, color = \"orange\", label = \"MSE (OLS)\")\n",
    "plt.xlim(left = 0)\n",
    "plt.ylim(top = 0.2)\n",
    "plt.legend()\n",
    "plt.xlabel(r\"$\\lambda$\")\n",
    "plt.tight_layout()\n",
    "plt.show()"
   ]
  },
  {
   "cell_type": "markdown",
   "metadata": {},
   "source": [
    "One important aspect of penalised estimation is the choice of the penality parameter $\\lambda$.\n",
    "\n",
    "A common way to do this -- which we will discuss further in the lecture -- is $K$-fold cross validation. This entails splitting the data into $K$ roughly equally sized groups and estimating the prediction for any observation in the $k$-th group on the other $K-1$ groups. We then evaluate our error for the prediction rules implied by different values of $\\lambda$ and choose the $\\lambda$ which yields the smallest error.\n",
    "\n",
    "The choice of $K = n$ is called \"leave one out cross validation\" since the estimate for observation $i$ is trained on all except the $i$-th observation. "
   ]
  },
  {
   "cell_type": "code",
   "execution_count": 20,
   "metadata": {},
   "outputs": [
    {
     "data": {
      "image/png": "[encoded data removed]",
      "text/plain": [
       "<Figure size 432x288 with 1 Axes>"
      ]
     },
     "metadata": {
      "needs_background": "light"
     },
     "output_type": "display_data"
    }
   ],
   "source": [
    "# Demonstration of k-fold CV and LOOCV\n",
    "\n",
    "def get_folds(n, k):\n",
    "    a = np.arange(n)\n",
    "    d = n % k\n",
    "    folds = []\n",
    "    for i in range(k):\n",
    "        if k < d:\n",
    "            np.random.choice(a, n // k + 1, replace = False)\n",
    "        else:\n",
    "            b = np.random.choice(a, n // k, replace = False)\n",
    "        a = np.setdiff1d(a, b)\n",
    "        folds.append(b)\n",
    "    return folds\n",
    "\n",
    "def get_mse(y, X, lambdas, folds):\n",
    "    n = y.shape[0]\n",
    "    K = X.shape[1]\n",
    "    I_K = np.eye(K)\n",
    "    mse = np.zeros(len(lambdas))\n",
    "    for (i, test) in enumerate(folds):\n",
    "        train = np.concatenate(folds[:i] + folds[(i+1):])\n",
    "        XX = X[train, :].T @ X[train, :]\n",
    "        Xy = X[train, :].T @ y[train]\n",
    "        mse += np.array([np.square(y[test] - X[test, :] @ np.linalg.solve(XX + lambd * I_K, Xy)).sum() for lambd in lambdas])\n",
    "    return mse / n\n",
    "\n",
    "np.random.seed(15143)\n",
    "\n",
    "n = 400\n",
    "K = 4\n",
    "beta = np.random.uniform(size = K)\n",
    "A = np.random.standard_normal((K, K))\n",
    "Omega = A @ A.T / 4\n",
    "\n",
    "X =  np.random.standard_normal((n, K)) @ np.linalg.cholesky(Omega).T\n",
    "e = np.random.standard_normal(n)\n",
    "y = X @ beta + e\n",
    "\n",
    "X /= X.std(axis=0) # normalise scales\n",
    "\n",
    "lambdas = np.linspace(0, 150, 201)\n",
    "\n",
    "k = 5\n",
    "folds = get_folds(n, k)\n",
    "mse_fivefold = get_mse(y, X, lambdas, folds)\n",
    "lambd_fivefold_ind = mse_fivefold.argmin()\n",
    "\n",
    "k = 10\n",
    "folds = get_folds(n, k)\n",
    "mse_tenfold = get_mse(y, X, lambdas, folds)\n",
    "lambd_tenfold_ind = mse_tenfold.argmin()\n",
    "\n",
    "k = n\n",
    "folds = get_folds(n, k)\n",
    "mse_loocv = get_mse(y, X, lambdas, folds)\n",
    "lambd_loocv_ind = mse_loocv.argmin()\n",
    "\n",
    "fig, ax = plt.subplots()\n",
    "ax.plot(lambdas, mse_fivefold, color = \"tab:green\", linestyle = \"-.\", label = \"5-fold\")\n",
    "ax.plot(lambdas, mse_tenfold, color = \"tab:blue\", linestyle = \"--\", label = \"10-fold\")\n",
    "ax.plot(lambdas, mse_loocv, color = \"tab:orange\", linestyle = \"-\", label = \"loocv\")\n",
    "ax.scatter(lambdas[lambd_fivefold_ind], mse_fivefold[lambd_fivefold_ind], color = \"tab:green\")\n",
    "ax.scatter(lambdas[lambd_tenfold_ind], mse_tenfold[lambd_tenfold_ind], color = \"tab:blue\")\n",
    "ax.scatter(lambdas[lambd_loocv_ind], mse_loocv[lambd_loocv_ind], color = \"tab:orange\")\n",
    "plt.legend()\n",
    "plt.xlabel(r\"$\\lambda$\")\n",
    "plt.tight_layout()\n",
    "plt.show()"
   ]
  },
  {
   "cell_type": "markdown",
   "metadata": {},
   "source": [
    "Lets go back to our housing example and see how ridge regression compares to OLS. \n",
    "\n",
    "Note here that we standardise the data before estimating here: this is typical in regularised estimation so that the regularisation affects all variables equally."
   ]
  },
  {
   "cell_type": "code",
   "execution_count": 135,
   "metadata": {},
   "outputs": [],
   "source": [
    "y_train = df_train.loc[:, \"medv\"].to_numpy()\n",
    "X_train = df_train.loc[:, [x for x in df_train.columns if x != \"medv\"]].to_numpy()\n",
    "\n",
    "y_train /= y_train.std()\n",
    "X_train[:, 1:] /= X_train[:, 1:].std(axis=0)\n",
    "\n",
    "lambdas = np.linspace(0, 0.5, 201)\n",
    "\n",
    "# LOOCV\n",
    "folds = get_folds(n_train, n_train)\n",
    "mse = get_mse(y_train, X_train, lambdas, folds)\n",
    "lambd = lambdas[mse.argmin()]"
   ]
  },
  {
   "cell_type": "code",
   "execution_count": 143,
   "metadata": {},
   "outputs": [
    {
     "data": {
      "image/png": "[encoded data removed]",
      "text/plain": [
       "<Figure size 432x288 with 1 Axes>"
      ]
     },
     "metadata": {
      "needs_background": "light"
     },
     "output_type": "display_data"
    },
    {
     "name": "stdout",
     "output_type": "stream",
     "text": [
      "OLS MSE =  0.36523613354583234\n",
      "Ridge MSE =  0.37075156697422346\n"
     ]
    }
   ],
   "source": [
    "y_test = df_test.loc[:, \"medv\"]\n",
    "X_test = df_test.loc[:, [x for x in df_train.columns if x != \"medv\"]]\n",
    "\n",
    "y_test /= y_test.std()\n",
    "X_test.iloc[:, 1:] /= X_test.iloc[:, 1:].std(axis = 0) \n",
    "\n",
    "mdl = sm.OLS(y_train, X_train)\n",
    "\n",
    "# MSE\n",
    "\n",
    "mod_ols = mdl.fit()\n",
    "err_ols = np.square(y_test - mod_ols.predict(X_test)).mean()\n",
    "\n",
    "alpha = lambd * np.ones(len(mod_ols.params))\n",
    "alpha[0] = 0.0   # not penalising the constant\n",
    "mod_ridge = mdl.fit_regularized(alpha = alpha, L1_wt=0, start_params=mod_ols.params)\n",
    "err_ridge = np.square(y_test - mod_ridge.predict(X_test)).mean()\n",
    "\n",
    "fig, ax = plt.subplots()\n",
    "ax.scatter(y_test, mod_ols.predict(X_test))\n",
    "ax.scatter(y_test, mod_ridge.predict(X_test), color = \"tab:orange\")\n",
    "ax.plot(range(6), range(6), linestyle = \"--\", color = \"black\", alpha = 0.5)\n",
    "ax.set_xlabel(r\"$y$\")\n",
    "ax.set_ylabel(r\"$\\hat{y} = X' \\beta$\")\n",
    "plt.show()\n",
    "\n",
    "print(\"OLS MSE = \", err_ols)\n",
    "print(\"Ridge MSE = \", err_ridge)\n"
   ]
  },
  {
   "cell_type": "markdown",
   "metadata": {},
   "source": [
    "Below is an illustration of what happens if we choose a much higher penalty parameter.\n",
    "\n",
    "The ridge estimator will shrink all parameters (other than the non-penalised constant) towards zero:"
   ]
  },
  {
   "cell_type": "code",
   "execution_count": 149,
   "metadata": {},
   "outputs": [
    {
     "data": {
      "image/png": "[encoded data removed]",
      "text/plain": [
       "<Figure size 432x288 with 1 Axes>"
      ]
     },
     "metadata": {
      "needs_background": "light"
     },
     "output_type": "display_data"
    },
    {
     "name": "stdout",
     "output_type": "stream",
     "text": [
      "OLS MSE =  0.36523613354583234\n",
      "Ridge MSE =  0.7593810888868701\n"
     ]
    }
   ],
   "source": [
    "alpha = 15 * np.ones(len(mod_ols.params))\n",
    "alpha[0] = 0.0   # not penalising the constant\n",
    "mod_ridge = mdl.fit_regularized(alpha = alpha, L1_wt=0, start_params=mod_ols.params)\n",
    "err_ridge = np.square(y_test - mod_ridge.predict(X_test)).mean()\n",
    "\n",
    "fig, ax = plt.subplots()\n",
    "ax.scatter(y_test, mod_ols.predict(X_test))\n",
    "ax.scatter(y_test, mod_ridge.predict(X_test), color = \"tab:orange\")\n",
    "ax.plot(range(6), range(6), linestyle = \"--\", color = \"black\", alpha = 0.5)\n",
    "ax.axhline(mod_ridge.params[0], color = \"tab:orange\", alpha = 0.5, linestyle = \"--\")\n",
    "ax.set_xlabel(r\"$y$\")\n",
    "ax.set_ylabel(r\"$\\hat{y} = X' \\beta$\")\n",
    "plt.show()\n",
    "\n",
    "print(\"OLS MSE = \", err_ols)\n",
    "print(\"Ridge MSE = \", err_ridge)\n"
   ]
  },
  {
   "cell_type": "markdown",
   "metadata": {},
   "source": [
    "As a final note: just because we use a linear model, this does not mean the relationship between our target $y$ and our predictor variables $X$ has to be linear. In the model:\n",
    "\n",
    "$$\\mathbb{E}[y|X] = X' \\beta = \\sum_{k=1}^K X_k \\beta_k $$\n",
    "\n",
    "the function is linear _in the parameters_, but we can include non-linear transformations of observed variables as covariates.\n",
    "\n",
    "In the example below, we have $X = (1, Z, Z^2, Z^3)$ and \n",
    "\n",
    "$$\\mathbb{E}[y|X] = \\beta_0 + \\beta_1 Z + \\beta_2 Z^2 + \\beta_3 Z^3$$\n",
    "\n"
   ]
  },
  {
   "cell_type": "code",
   "execution_count": 124,
   "metadata": {},
   "outputs": [
    {
     "data": {
      "image/png": "[encoded data removed]",
      "text/plain": [
       "<Figure size 432x288 with 1 Axes>"
      ]
     },
     "metadata": {
      "needs_background": "light"
     },
     "output_type": "display_data"
    }
   ],
   "source": [
    "np.random.seed(523423)\n",
    "\n",
    "n = 400\n",
    "beta = np.array([2, 1, -1/2, 1/4])\n",
    "e = np.random.standard_normal(n)\n",
    "Z = np.random.standard_t(10, n)\n",
    "X = np.column_stack((np.ones(n), Z, Z**2, Z**3))\n",
    "\n",
    "y = X @ beta + e\n",
    "\n",
    "betahat = np.linalg.solve(X.T @ X, X.T @ y)\n",
    "yhat = X @ betahat\n",
    "\n",
    "ind = np.argsort(Z)\n",
    "\n",
    "fig, ax = plt.subplots()\n",
    "ax.scatter(Z, y, color = \"lightskyblue\")\n",
    "xmin, xmax = ax.get_xlim()\n",
    "x = np.linspace(xmin, xmax, 100)\n",
    "ax.plot(x, np.array([beta @ np.array([1, z, z**2, z**3]) for z in x]), label = \"true\")\n",
    "ax.plot(Z[ind], yhat[ind], label = \"fitted\")\n",
    "plt.xlabel(r\"$Z$\")\n",
    "plt.ylabel(r\"$y$\")\n",
    "plt.legend()\n",
    "plt.tight_layout()\n",
    "plt.show()"
   ]
  }
 ],
 "metadata": {
  "kernelspec": {
   "display_name": "Python 3.10.4 ('py310')",
   "language": "python",
   "name": "python3"
  },
  "language_info": {
   "codemirror_mode": {
    "name": "ipython",
    "version": 3
   },
   "file_extension": ".py",
   "mimetype": "text/x-python",
   "name": "python",
   "nbconvert_exporter": "python",
   "pygments_lexer": "ipython3",
   "version": "3.10.4"
  },
  "orig_nbformat": 4,
  "vscode": {
   "interpreter": {
    "hash": "9cc70204b29e50dad6f2d5cfad4493e55c09854a2d065190583519add6f09c9d"
   }
  }
 },
 "nbformat": 4,
 "nbformat_minor": 2
}

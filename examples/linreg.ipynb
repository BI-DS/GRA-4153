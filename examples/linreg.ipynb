{
 "cells": [
  {
   "cell_type": "markdown",
   "metadata": {},
   "source": [
    "Load required libraries"
   ]
  },
  {
   "cell_type": "code",
   "execution_count": 8,
   "metadata": {},
   "outputs": [],
   "source": [
    "import numpy as np\n",
    "import statsmodels.api as sm\n",
    "import statsmodels.formula.api as smf\n",
    "import pandas as pd\n",
    "import matplotlib.pyplot as plt"
   ]
  },
  {
   "cell_type": "markdown",
   "metadata": {},
   "source": [
    "Examples of linear regression estimators"
   ]
  },
  {
   "cell_type": "code",
   "execution_count": 3,
   "metadata": {},
   "outputs": [
    {
     "data": {
      "text/html": [
       "<table class=\"simpletable\">\n",
       "<caption>OLS Regression Results</caption>\n",
       "<tr>\n",
       "  <th>Dep. Variable:</th>      <td>np.log(wage)</td>   <th>  R-squared:         </th> <td>   0.238</td>\n",
       "</tr>\n",
       "<tr>\n",
       "  <th>Model:</th>                   <td>OLS</td>       <th>  Adj. R-squared:    </th> <td>   0.234</td>\n",
       "</tr>\n",
       "<tr>\n",
       "  <th>Method:</th>             <td>Least Squares</td>  <th>  F-statistic:       </th> <td>   55.23</td>\n",
       "</tr>\n",
       "<tr>\n",
       "  <th>Date:</th>             <td>Sun, 27 Aug 2023</td> <th>  Prob (F-statistic):</th> <td>4.46e-31</td>\n",
       "</tr>\n",
       "<tr>\n",
       "  <th>Time:</th>                 <td>16:15:01</td>     <th>  Log-Likelihood:    </th> <td> -343.28</td>\n",
       "</tr>\n",
       "<tr>\n",
       "  <th>No. Observations:</th>      <td>   534</td>      <th>  AIC:               </th> <td>   694.6</td>\n",
       "</tr>\n",
       "<tr>\n",
       "  <th>Df Residuals:</th>          <td>   530</td>      <th>  BIC:               </th> <td>   711.7</td>\n",
       "</tr>\n",
       "<tr>\n",
       "  <th>Df Model:</th>              <td>     3</td>      <th>                     </th>     <td> </td>   \n",
       "</tr>\n",
       "<tr>\n",
       "  <th>Covariance Type:</th>      <td>nonrobust</td>    <th>                     </th>     <td> </td>   \n",
       "</tr>\n",
       "</table>\n",
       "<table class=\"simpletable\">\n",
       "<tr>\n",
       "             <td></td>                <th>coef</th>     <th>std err</th>      <th>t</th>      <th>P>|t|</th>  <th>[0.025</th>    <th>0.975]</th>  \n",
       "</tr>\n",
       "<tr>\n",
       "  <th>Intercept</th>               <td>    0.5203</td> <td>    0.124</td> <td>    4.209</td> <td> 0.000</td> <td>    0.277</td> <td>    0.763</td>\n",
       "</tr>\n",
       "<tr>\n",
       "  <th>education</th>               <td>    0.0898</td> <td>    0.008</td> <td>   10.787</td> <td> 0.000</td> <td>    0.073</td> <td>    0.106</td>\n",
       "</tr>\n",
       "<tr>\n",
       "  <th>experience</th>              <td>    0.0349</td> <td>    0.006</td> <td>    6.185</td> <td> 0.000</td> <td>    0.024</td> <td>    0.046</td>\n",
       "</tr>\n",
       "<tr>\n",
       "  <th>np.power(experience, 2)</th> <td>   -0.0005</td> <td>    0.000</td> <td>   -4.307</td> <td> 0.000</td> <td>   -0.001</td> <td>   -0.000</td>\n",
       "</tr>\n",
       "</table>\n",
       "<table class=\"simpletable\">\n",
       "<tr>\n",
       "  <th>Omnibus:</th>       <td> 9.391</td> <th>  Durbin-Watson:     </th> <td>   1.780</td>\n",
       "</tr>\n",
       "<tr>\n",
       "  <th>Prob(Omnibus):</th> <td> 0.009</td> <th>  Jarque-Bera (JB):  </th> <td>  15.363</td>\n",
       "</tr>\n",
       "<tr>\n",
       "  <th>Skew:</th>          <td>-0.037</td> <th>  Prob(JB):          </th> <td>0.000461</td>\n",
       "</tr>\n",
       "<tr>\n",
       "  <th>Kurtosis:</th>      <td> 3.828</td> <th>  Cond. No.          </th> <td>4.58e+03</td>\n",
       "</tr>\n",
       "</table><br/><br/>Notes:<br/>[1] Standard Errors assume that the covariance matrix of the errors is correctly specified.<br/>[2] The condition number is large, 4.58e+03. This might indicate that there are<br/>strong multicollinearity or other numerical problems."
      ],
      "text/plain": [
       "<class 'statsmodels.iolib.summary.Summary'>\n",
       "\"\"\"\n",
       "                            OLS Regression Results                            \n",
       "==============================================================================\n",
       "Dep. Variable:           np.log(wage)   R-squared:                       0.238\n",
       "Model:                            OLS   Adj. R-squared:                  0.234\n",
       "Method:                 Least Squares   F-statistic:                     55.23\n",
       "Date:                Sun, 27 Aug 2023   Prob (F-statistic):           4.46e-31\n",
       "Time:                        16:15:01   Log-Likelihood:                -343.28\n",
       "No. Observations:                 534   AIC:                             694.6\n",
       "Df Residuals:                     530   BIC:                             711.7\n",
       "Df Model:                           3                                         \n",
       "Covariance Type:            nonrobust                                         \n",
       "===========================================================================================\n",
       "                              coef    std err          t      P>|t|      [0.025      0.975]\n",
       "-------------------------------------------------------------------------------------------\n",
       "Intercept                   0.5203      0.124      4.209      0.000       0.277       0.763\n",
       "education                   0.0898      0.008     10.787      0.000       0.073       0.106\n",
       "experience                  0.0349      0.006      6.185      0.000       0.024       0.046\n",
       "np.power(experience, 2)    -0.0005      0.000     -4.307      0.000      -0.001      -0.000\n",
       "==============================================================================\n",
       "Omnibus:                        9.391   Durbin-Watson:                   1.780\n",
       "Prob(Omnibus):                  0.009   Jarque-Bera (JB):               15.363\n",
       "Skew:                          -0.037   Prob(JB):                     0.000461\n",
       "Kurtosis:                       3.828   Cond. No.                     4.58e+03\n",
       "==============================================================================\n",
       "\n",
       "Notes:\n",
       "[1] Standard Errors assume that the covariance matrix of the errors is correctly specified.\n",
       "[2] The condition number is large, 4.58e+03. This might indicate that there are\n",
       "strong multicollinearity or other numerical problems.\n",
       "\"\"\""
      ]
     },
     "execution_count": 3,
     "metadata": {},
     "output_type": "execute_result"
    }
   ],
   "source": [
    "# OLS estimates of log(wage) ~ education, experience regression\n",
    "# Data from US Current population survey, 1985\n",
    "\n",
    "df = sm.datasets.get_rdataset(\"CPS1985\", package=\"AER\").data\n",
    "res = smf.ols(\"np.log(wage) ~ education + experience + np.power(experience, 2)\", df).fit()\n",
    "res.summary()"
   ]
  },
  {
   "cell_type": "code",
   "execution_count": 4,
   "metadata": {},
   "outputs": [
    {
     "data": {
      "text/plain": [
       "array([ 0.52032177,  0.08975608,  0.03494034, -0.00053624])"
      ]
     },
     "execution_count": 4,
     "metadata": {},
     "output_type": "execute_result"
    }
   ],
   "source": [
    "# The above uses statsmodels, a convenient Python package for statistics\n",
    "# We will use statsmodels frequently in this class\n",
    "# Here we check it gives the same estimates as our OLS formula:\n",
    "\n",
    "data = smf.ols(\"np.log(wage) ~ education + experience + np.power(experience, 2)\", df).data\n",
    "y, X = data.endog, data.exog\n",
    "beta_hat = np.linalg.solve(X.T @ X, X.T @ y)\n",
    "beta_hat"
   ]
  },
  {
   "cell_type": "code",
   "execution_count": 62,
   "metadata": {},
   "outputs": [
    {
     "data": {
      "text/plain": [
       "1.3695519429791423"
      ]
     },
     "execution_count": 62,
     "metadata": {},
     "output_type": "execute_result"
    }
   ],
   "source": [
    "# Lets predict the log(wage) for some one with\n",
    "# 8 years of education and 4 years of experience\n",
    "\n",
    "np.array([1, 8, 4, 16]) @ beta_hat "
   ]
  },
  {
   "cell_type": "code",
   "execution_count": 75,
   "metadata": {},
   "outputs": [
    {
     "data": {
      "text/plain": [
       "0    1.369552\n",
       "dtype: float64"
      ]
     },
     "execution_count": 75,
     "metadata": {},
     "output_type": "execute_result"
    }
   ],
   "source": [
    "# Or via statsmodels\n",
    "X_new = pd.DataFrame({'education': [8], 'experience' : [4]})\n",
    "res.predict(exog = X_new)"
   ]
  },
  {
   "cell_type": "code",
   "execution_count": 87,
   "metadata": {},
   "outputs": [
    {
     "data": {
      "text/plain": [
       "0.08975608205864281"
      ]
     },
     "execution_count": 87,
     "metadata": {},
     "output_type": "execute_result"
    }
   ],
   "source": [
    "# We'll now show that the same estimate for $\\beta_1$ \n",
    "# is achieved if we first use the Frisch -- Waugh -- Lovell\n",
    "# Theorem to \"partial out\" the rest of the covariates\n",
    "\n",
    "X1 = X[:, 1]\n",
    "X2 = X[:, [0, 2, 3]]\n",
    "P2 = X2 @ np.linalg.solve(X2.T @ X2, X2.T)\n",
    "M2 = np.eye(P2.shape[0]) - P2\n",
    "\n",
    "(X1.T @ M2 @ y) / (X1.T @ M2 @ X1)"
   ]
  },
  {
   "cell_type": "code",
   "execution_count": 9,
   "metadata": {},
   "outputs": [
    {
     "name": "stdout",
     "output_type": "stream",
     "text": [
      "0.21338183931211507\n"
     ]
    },
    {
     "data": {
      "text/plain": [
       "0.2133818393121151"
      ]
     },
     "execution_count": 9,
     "metadata": {},
     "output_type": "execute_result"
    }
   ],
   "source": [
    "# Estimation of error variance\n",
    "\n",
    "# From statsmodels, this is stored as scale in the results object\n",
    "print(res.scale)\n",
    "\n",
    "# By \"hand\":\n",
    "e = y - X @ beta_hat\n",
    "(e.T @ e) / (e.shape[0] - X.shape[1])\n"
   ]
  },
  {
   "cell_type": "code",
   "execution_count": 15,
   "metadata": {},
   "outputs": [
    {
     "data": {
      "text/html": [
       "<table class=\"simpletable\">\n",
       "<caption>WLS Regression Results</caption>\n",
       "<tr>\n",
       "  <th>Dep. Variable:</th>      <td>np.log(wage)</td>   <th>  R-squared:         </th> <td>   0.973</td>\n",
       "</tr>\n",
       "<tr>\n",
       "  <th>Model:</th>                   <td>WLS</td>       <th>  Adj. R-squared:    </th> <td>   0.972</td>\n",
       "</tr>\n",
       "<tr>\n",
       "  <th>Method:</th>             <td>Least Squares</td>  <th>  F-statistic:       </th> <td>   6256.</td>\n",
       "</tr>\n",
       "<tr>\n",
       "  <th>Date:</th>             <td>Sun, 27 Aug 2023</td> <th>  Prob (F-statistic):</th>  <td>  0.00</td> \n",
       "</tr>\n",
       "<tr>\n",
       "  <th>Time:</th>                 <td>12:39:10</td>     <th>  Log-Likelihood:    </th> <td> -7.5881</td>\n",
       "</tr>\n",
       "<tr>\n",
       "  <th>No. Observations:</th>      <td>   534</td>      <th>  AIC:               </th> <td>   23.18</td>\n",
       "</tr>\n",
       "<tr>\n",
       "  <th>Df Residuals:</th>          <td>   530</td>      <th>  BIC:               </th> <td>   40.30</td>\n",
       "</tr>\n",
       "<tr>\n",
       "  <th>Df Model:</th>              <td>     3</td>      <th>                     </th>     <td> </td>   \n",
       "</tr>\n",
       "<tr>\n",
       "  <th>Covariance Type:</th>      <td>nonrobust</td>    <th>                     </th>     <td> </td>   \n",
       "</tr>\n",
       "</table>\n",
       "<table class=\"simpletable\">\n",
       "<tr>\n",
       "             <td></td>                <th>coef</th>     <th>std err</th>      <th>t</th>      <th>P>|t|</th>  <th>[0.025</th>    <th>0.975]</th>  \n",
       "</tr>\n",
       "<tr>\n",
       "  <th>Intercept</th>               <td>    0.5204</td> <td>    0.014</td> <td>   36.182</td> <td> 0.000</td> <td>    0.492</td> <td>    0.549</td>\n",
       "</tr>\n",
       "<tr>\n",
       "  <th>education</th>               <td>    0.0894</td> <td>    0.001</td> <td>   89.462</td> <td> 0.000</td> <td>    0.087</td> <td>    0.091</td>\n",
       "</tr>\n",
       "<tr>\n",
       "  <th>experience</th>              <td>    0.0355</td> <td>    0.000</td> <td>   75.611</td> <td> 0.000</td> <td>    0.035</td> <td>    0.036</td>\n",
       "</tr>\n",
       "<tr>\n",
       "  <th>np.power(experience, 2)</th> <td>   -0.0005</td> <td> 1.35e-05</td> <td>  -40.598</td> <td> 0.000</td> <td>   -0.001</td> <td>   -0.001</td>\n",
       "</tr>\n",
       "</table>\n",
       "<table class=\"simpletable\">\n",
       "<tr>\n",
       "  <th>Omnibus:</th>       <td>2204.095</td> <th>  Durbin-Watson:     </th> <td>   1.832</td>\n",
       "</tr>\n",
       "<tr>\n",
       "  <th>Prob(Omnibus):</th>  <td> 0.000</td>  <th>  Jarque-Bera (JB):  </th> <td>  87.834</td>\n",
       "</tr>\n",
       "<tr>\n",
       "  <th>Skew:</th>           <td>-0.030</td>  <th>  Prob(JB):          </th> <td>8.45e-20</td>\n",
       "</tr>\n",
       "<tr>\n",
       "  <th>Kurtosis:</th>       <td> 1.014</td>  <th>  Cond. No.          </th> <td>5.41e+03</td>\n",
       "</tr>\n",
       "</table><br/><br/>Notes:<br/>[1] Standard Errors assume that the covariance matrix of the errors is correctly specified.<br/>[2] The condition number is large, 5.41e+03. This might indicate that there are<br/>strong multicollinearity or other numerical problems."
      ],
      "text/plain": [
       "<class 'statsmodels.iolib.summary.Summary'>\n",
       "\"\"\"\n",
       "                            WLS Regression Results                            \n",
       "==============================================================================\n",
       "Dep. Variable:           np.log(wage)   R-squared:                       0.973\n",
       "Model:                            WLS   Adj. R-squared:                  0.972\n",
       "Method:                 Least Squares   F-statistic:                     6256.\n",
       "Date:                Sun, 27 Aug 2023   Prob (F-statistic):               0.00\n",
       "Time:                        12:39:10   Log-Likelihood:                -7.5881\n",
       "No. Observations:                 534   AIC:                             23.18\n",
       "Df Residuals:                     530   BIC:                             40.30\n",
       "Df Model:                           3                                         \n",
       "Covariance Type:            nonrobust                                         \n",
       "===========================================================================================\n",
       "                              coef    std err          t      P>|t|      [0.025      0.975]\n",
       "-------------------------------------------------------------------------------------------\n",
       "Intercept                   0.5204      0.014     36.182      0.000       0.492       0.549\n",
       "education                   0.0894      0.001     89.462      0.000       0.087       0.091\n",
       "experience                  0.0355      0.000     75.611      0.000       0.035       0.036\n",
       "np.power(experience, 2)    -0.0005   1.35e-05    -40.598      0.000      -0.001      -0.001\n",
       "==============================================================================\n",
       "Omnibus:                     2204.095   Durbin-Watson:                   1.832\n",
       "Prob(Omnibus):                  0.000   Jarque-Bera (JB):               87.834\n",
       "Skew:                          -0.030   Prob(JB):                     8.45e-20\n",
       "Kurtosis:                       1.014   Cond. No.                     5.41e+03\n",
       "==============================================================================\n",
       "\n",
       "Notes:\n",
       "[1] Standard Errors assume that the covariance matrix of the errors is correctly specified.\n",
       "[2] The condition number is large, 5.41e+03. This might indicate that there are\n",
       "strong multicollinearity or other numerical problems.\n",
       "\"\"\""
      ]
     },
     "execution_count": 15,
     "metadata": {},
     "output_type": "execute_result"
    }
   ],
   "source": [
    "# FWLS -- Statsmodels\n",
    "\n",
    "mod_wls = smf.wls(\"np.log(wage) ~ education + experience + np.power(experience, 2)\",\n",
    "         weights = 1 / res.resid**2, data = df)\n",
    "res_wls = mod_wls.fit()\n",
    "res_wls.summary()\n"
   ]
  },
  {
   "cell_type": "code",
   "execution_count": 5,
   "metadata": {},
   "outputs": [
    {
     "data": {
      "text/plain": [
       "array([ 0.52039612,  0.08941247,  0.03549268, -0.00054882])"
      ]
     },
     "execution_count": 5,
     "metadata": {},
     "output_type": "execute_result"
    }
   ],
   "source": [
    "# FWLS -- by \"hand\"\n",
    "\n",
    "e = y - X @ beta_hat\n",
    "C = np.diag(1 / np.sqrt(e**2))\n",
    "Cy = C @ y\n",
    "CX = C @ X\n",
    "\n",
    "beta_tilde = np.linalg.solve(CX.T @ CX, CX.T @ Cy)\n",
    "beta_tilde\n"
   ]
  },
  {
   "cell_type": "code",
   "execution_count": 56,
   "metadata": {},
   "outputs": [],
   "source": [
    "# Aitken's Theorem illustration\n",
    "\n",
    "def sample(n, V):\n",
    "    X = np.random.standard_t(8, n)\n",
    "    u = np.random.standard_normal(n)\n",
    "    e = V * u\n",
    "    y = X + e\n",
    "    return(y.reshape(n, 1), X.reshape(n, 1))\n",
    "\n",
    "def gen_V(n):\n",
    "    return(0.1 + np.sin(2 * np.arange(1, n + 1) / n))\n",
    "\n",
    "def ols(y, X):\n",
    "    return np.linalg.solve(X.T @ X, X.T @ y)\n",
    "\n",
    "def wls(y, X, C):\n",
    "    return ols(C @ y, C @ X)\n",
    "\n",
    "def fwls(y, X, beta_hat):\n",
    "    e = y - X @ beta_hat\n",
    "    C = np.diag((1 / np.sqrt(e**2)).flatten())\n",
    "    return wls(y, X, C)\n",
    "\n",
    "\n",
    "M = 5000\n",
    "ns = [100, 500, 1000]\n",
    "out = np.zeros((M, 3, 3))\n",
    "np.random.seed(452)\n",
    "\n",
    "for (j , n) in enumerate(ns):\n",
    "    \n",
    "    V = gen_V(n)\n",
    "    C = np.diag(1 / np.sqrt(V))\n",
    "\n",
    "    for m in range(M):\n",
    "\n",
    "        # Sample data\n",
    "        y, X = sample(n, V)\n",
    "\n",
    "        # OLS \n",
    "        beta_hat = ols(y, X)\n",
    "        out[m, 0, j] = beta_hat\n",
    "\n",
    "        # WLS \n",
    "        out[m, 1, j] = wls(y, X, C)\n",
    "\n",
    "        # FWLS\n",
    "        out[m, 2, j] = fwls(y, X, beta_hat)\n"
   ]
  },
  {
   "cell_type": "code",
   "execution_count": 70,
   "metadata": {},
   "outputs": [
    {
     "data": {
      "image/png": "[encoded data removed]",
      "text/plain": [
       "<Figure size 1600x900 with 9 Axes>"
      ]
     },
     "metadata": {},
     "output_type": "display_data"
    }
   ],
   "source": [
    "# Lets plot histograms of the estimates:\n",
    "\n",
    "estimators = [\"OLS\", \"WLS\", \"FWLS\"]\n",
    "sample_size = [\"n = 100\", \"n = 500\", \"n = 1000\"]\n",
    "\n",
    "fig, axes = plt.subplots(3, 3, sharey=True, sharex=True, figsize = (16, 9))\n",
    "\n",
    "for j in range(3):\n",
    "    for i in range(3):\n",
    "        axes[j, i].hist(out[:, i, j],\n",
    "                         density = True,\n",
    "                           alpha = 0.8)\n",
    "        axes[j, i].set_title(estimators[i] + \", \" + sample_size[j])\n",
    "\n",
    "# fig.savefig(\"../figures/output/aitken.pdf\")"
   ]
  },
  {
   "cell_type": "code",
   "execution_count": 78,
   "metadata": {},
   "outputs": [],
   "source": [
    "# The histogram reveals that the FWLS estimator is more tightly centered around the truth\n",
    "# All seem to be unbiased (as they should be)\n",
    "# We also get much better estimates for each estimator when the sample size is larger\n",
    "# The FWLS estimator and OLS estimator don't show much difference.\n",
    "\n",
    "var = pd.DataFrame([[np.mean((out[:, i, j] - 1)**2) for i in range(3)] for j in range(3)],\n",
    "              columns=estimators)\n",
    "var.insert(0, \"n\", ns)\n",
    "var.set_index(\"n\", inplace=True)\n",
    "var\n",
    "\n",
    "# var.style.to_latex(\"../figures/output/aitken.tex\", hrules=True)\n",
    "\n",
    "# Here again we see a substantial reduction when the variances are known \n",
    "# ...but only a slight improvement for feasible WLS. "
   ]
  }
 ],
 "metadata": {
  "kernelspec": {
   "display_name": "py310",
   "language": "python",
   "name": "python3"
  },
  "language_info": {
   "codemirror_mode": {
    "name": "ipython",
    "version": 3
   },
   "file_extension": ".py",
   "mimetype": "text/x-python",
   "name": "python",
   "nbconvert_exporter": "python",
   "pygments_lexer": "ipython3",
   "version": "3.10.8"
  },
  "orig_nbformat": 4
 },
 "nbformat": 4,
 "nbformat_minor": 2
}

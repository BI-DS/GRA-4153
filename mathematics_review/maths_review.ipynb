{
 "cells": [
  {
   "cell_type": "markdown",
   "metadata": {},
   "source": [
    "## A quick introduction to linear algebra in numpy"
   ]
  },
  {
   "cell_type": "code",
   "execution_count": 102,
   "metadata": {},
   "outputs": [],
   "source": [
    "import numpy as np\n",
    "# see https://numpy.org/doc/stable/reference/routines.linalg.html for documentation on linear algebra in numpy\n",
    "import scipy.linalg as spla\n",
    "# https://docs.scipy.org/doc/scipy/reference/linalg.html#\n",
    "# numpy does not have support for all the linear algebra routines we may want to use; sometimes we need scipy.linalg"
   ]
  },
  {
   "cell_type": "code",
   "execution_count": 39,
   "metadata": {},
   "outputs": [
    {
     "name": "stdout",
     "output_type": "stream",
     "text": [
      "[1 4 7]\n",
      "[-2 10  4]\n",
      "[-9 18 -9]\n",
      "1\n"
     ]
    }
   ],
   "source": [
    "# Vectors in numpy are constructed by calling np.array() on a list of numbers:\n",
    "\n",
    "x = np.array([1, 4, 7])\n",
    "print(x)\n",
    "\n",
    "# Adding vectors and scalar multiplication works as you would expect:\n",
    "\n",
    "y = np.array([-3, 6, -3])\n",
    "print(x + y)\n",
    "print(3 * y)\n",
    "\n",
    "# Elements of vectors are accessed via brackets. Python is 0-indexed, so the first element of x is given by x[0]\n",
    "print(x[0])"
   ]
  },
  {
   "cell_type": "code",
   "execution_count": 14,
   "metadata": {},
   "outputs": [
    {
     "name": "stdout",
     "output_type": "stream",
     "text": [
      "0\n",
      "8.12403840463596 8.12403840463596\n"
     ]
    }
   ],
   "source": [
    "# The dot product and norm of vectors are easily calculated:\n",
    "\n",
    "print(np.dot(x, y))\n",
    "\n",
    "print(np.sqrt(np.dot(x, x)), np.linalg.norm(x))"
   ]
  },
  {
   "cell_type": "code",
   "execution_count": 40,
   "metadata": {},
   "outputs": [
    {
     "name": "stdout",
     "output_type": "stream",
     "text": [
      "[[1 2]\n",
      " [3 4]]\n",
      "[[1 2]\n",
      " [3 4]\n",
      " [5 6]]\n"
     ]
    },
    {
     "data": {
      "text/plain": [
       "2"
      ]
     },
     "execution_count": 40,
     "metadata": {},
     "output_type": "execute_result"
    }
   ],
   "source": [
    "# Matrices are constructed by calling np.array() on a list of lists. These are constructed row by row:\n",
    "\n",
    "A = np.array([[1, 2], [3, 4]])\n",
    "print(A)\n",
    "\n",
    "B = np.array([[1, 2], [3, 4], [5, 6]])\n",
    "print(B)\n",
    "\n",
    "# Elements of matrix are accessed via brackets, with two indices - row first then column\n",
    "# Recall python is 0-indexed, so the 1,2 element A_{12} is given by A[0, 1]\n",
    "A[0, 1]"
   ]
  },
  {
   "cell_type": "code",
   "execution_count": 24,
   "metadata": {},
   "outputs": [
    {
     "name": "stdout",
     "output_type": "stream",
     "text": [
      "[[ 5 10]\n",
      " [ 6  9]]\n",
      "[[ 3.2  6.4]\n",
      " [ 9.6 12.8]]\n"
     ]
    },
    {
     "ename": "ValueError",
     "evalue": "operands could not be broadcast together with shapes (2,2) (3,2) ",
     "output_type": "error",
     "traceback": [
      "\u001b[0;31m---------------------------------------------------------------------------\u001b[0m",
      "\u001b[0;31mValueError\u001b[0m                                Traceback (most recent call last)",
      "\u001b[1;32m/Users/adam/Documents/work/teaching/teach-asadt/Notes/exercises_code/maths_review.ipynb Cell 5\u001b[0m in \u001b[0;36m<cell line: 8>\u001b[0;34m()\u001b[0m\n\u001b[1;32m      <a href='vscode-notebook-cell:/Users/adam/Documents/work/teaching/teach-asadt/Notes/exercises_code/maths_review.ipynb#W6sZmlsZQ%3D%3D?line=4'>5</a>\u001b[0m \u001b[39mprint\u001b[39m(\u001b[39m3.2\u001b[39m \u001b[39m*\u001b[39m A)\n\u001b[1;32m      <a href='vscode-notebook-cell:/Users/adam/Documents/work/teaching/teach-asadt/Notes/exercises_code/maths_review.ipynb#W6sZmlsZQ%3D%3D?line=6'>7</a>\u001b[0m \u001b[39m# If you try to add together two matrices with incompatible dimensions, numpy will throw an error\u001b[39;00m\n\u001b[0;32m----> <a href='vscode-notebook-cell:/Users/adam/Documents/work/teaching/teach-asadt/Notes/exercises_code/maths_review.ipynb#W6sZmlsZQ%3D%3D?line=7'>8</a>\u001b[0m \u001b[39mprint\u001b[39m(A\u001b[39m+\u001b[39;49mB)\n",
      "\u001b[0;31mValueError\u001b[0m: operands could not be broadcast together with shapes (2,2) (3,2) "
     ]
    }
   ],
   "source": [
    "# Adding matrices and multipling by scalars works as you'd expect:\n",
    "\n",
    "C = np.array([[4, 8], [3, 5]])\n",
    "print(A+C)\n",
    "print(3.2 * A)\n",
    "\n",
    "# If you try to add together two matrices with incompatible dimensions, numpy will throw an error\n",
    "print(A+B)\n"
   ]
  },
  {
   "cell_type": "code",
   "execution_count": 42,
   "metadata": {},
   "outputs": [
    {
     "name": "stdout",
     "output_type": "stream",
     "text": [
      "[[ True  True]\n",
      " [ True  True]]\n",
      "True\n",
      "True\n",
      "True\n",
      "True\n",
      "True\n"
     ]
    }
   ],
   "source": [
    "# We can check the various properties:\n",
    "\n",
    "A = np.array([[1, 2], [3, 4]])\n",
    "B = np.array([[4, 8], [3, 5]])\n",
    "C = np.array([[7, 2], [3, 4]])\n",
    "\n",
    "# Commutativity\n",
    "print(A + B == B + A)\n",
    "print(np.all(A + B == B + A))\n",
    "\n",
    "# Associativity of matrix addition\n",
    "print(np.all((A + B) + C == A + (B + C)))\n",
    "\n",
    "# Associativity of scalar multiplication\n",
    "print(np.all((3 * 4) * A == 3 * (4 * A)))\n",
    "\n",
    "# Distributivity of matrix addition over scalar multiplcation\n",
    "print(np.all(3 * (A + B) == 3 * A + 3 * B))\n",
    "\n",
    "# Distributivity of scalar addition over scalar multiplication\n",
    "print(np.all( (3 + 4) * A == 3 * A + 4 * A))\n"
   ]
  },
  {
   "cell_type": "code",
   "execution_count": 43,
   "metadata": {},
   "outputs": [
    {
     "name": "stdout",
     "output_type": "stream",
     "text": [
      "[[1 2]\n",
      " [3 4]]\n",
      "[[1 3]\n",
      " [2 4]]\n",
      "True\n"
     ]
    }
   ],
   "source": [
    "# Taking transposes is done via the .T method\n",
    "\n",
    "print(A)\n",
    "print(A.T)\n",
    "\n",
    "# For a symmetric matrix B, B = B.T\n",
    "B = np.array([[1, 9], [9, 1]])\n",
    "print(np.all(B == B.T))"
   ]
  },
  {
   "cell_type": "code",
   "execution_count": 47,
   "metadata": {},
   "outputs": [
    {
     "name": "stdout",
     "output_type": "stream",
     "text": [
      "[[1 2]\n",
      " [3 4]]\n",
      "[[1 9]\n",
      " [9 1]]\n",
      "[[19 11]\n",
      " [39 31]]\n",
      "[1 2]\n",
      "[9 1]\n",
      "True\n"
     ]
    }
   ],
   "source": [
    "# Matrix multiplication is performed by the @ operator:\n",
    "\n",
    "print(A)\n",
    "print(B)\n",
    "print(A @ B)\n",
    "\n",
    "# Note the definition says that the ij-th element of AB should be the dot product of the ith row of A and the jth column of B. We can access these rows and columns using brackets, [], and slices, :.\n",
    "\n",
    "# The 1-st row of A is given by A[0, :]; the second column of B by B[:, 1]\n",
    "print(A[0, :])\n",
    "print(B[:, 1])\n",
    "\n",
    "# Lets check the 1,2 element of AB:\n",
    "print((A @ B)[0, 1] == np.dot(A[0, :], B[:, 1]))\n"
   ]
  },
  {
   "cell_type": "code",
   "execution_count": 49,
   "metadata": {},
   "outputs": [
    {
     "name": "stdout",
     "output_type": "stream",
     "text": [
      "[[19 11]\n",
      " [39 31]]\n",
      "[[28 38]\n",
      " [12 22]]\n",
      "False\n"
     ]
    }
   ],
   "source": [
    "# Matrices A, B provide an example that AB does not generally equal BA\n",
    "\n",
    "AB = A@B\n",
    "BA = B@A\n",
    "print(AB)\n",
    "print(BA)\n",
    "print(np.any(AB == BA))"
   ]
  },
  {
   "cell_type": "code",
   "execution_count": 53,
   "metadata": {},
   "outputs": [
    {
     "data": {
      "text/plain": [
       "0"
      ]
     },
     "execution_count": 53,
     "metadata": {},
     "output_type": "execute_result"
    }
   ],
   "source": [
    "# We saw that another way to compute the dot product of two vectors x, y is to treat them as matrices and compute x'y. \n",
    "\n",
    "x.T @ y"
   ]
  },
  {
   "cell_type": "code",
   "execution_count": 62,
   "metadata": {},
   "outputs": [
    {
     "name": "stdout",
     "output_type": "stream",
     "text": [
      "[[0. 0. 0. 0.]\n",
      " [0. 0. 0. 0.]\n",
      " [0. 0. 0. 0.]]\n",
      "[[1. 0. 0. 0.]\n",
      " [0. 1. 0. 0.]\n",
      " [0. 0. 1. 0.]\n",
      " [0. 0. 0. 1.]]\n",
      "[1 4 7]\n",
      "[[1 0 0]\n",
      " [0 4 0]\n",
      " [0 0 7]]\n"
     ]
    }
   ],
   "source": [
    "# There are constructors for commonly used classes of matrices.\n",
    "\n",
    "# Zero matrix:\n",
    "O = np.zeros((3, 4))\n",
    "print(O)\n",
    "\n",
    "# Identity matrix:\n",
    "I = np.eye(4)\n",
    "print(I)\n",
    "\n",
    "# Diagonal matrix:\n",
    "D = np.diag(x)\n",
    "print(x)\n",
    "print(D)"
   ]
  },
  {
   "cell_type": "code",
   "execution_count": 79,
   "metadata": {},
   "outputs": [
    {
     "name": "stdout",
     "output_type": "stream",
     "text": [
      "1\n",
      "2\n",
      "[[-2.   1. ]\n",
      " [ 1.5 -0.5]]\n",
      "[[1.00000000e+00 0.00000000e+00]\n",
      " [1.11022302e-16 1.00000000e+00]]\n"
     ]
    }
   ],
   "source": [
    "# To invert a matrix we can use np.inv, provided it is of full rank\n",
    "\n",
    "print(np.linalg.matrix_rank(np.array([[1, -1/2], [2, -1]]))) # not invertible - 2 x 2, but rank 1\n",
    "\n",
    "print(np.linalg.matrix_rank(A))\n",
    "print(np.linalg.inv(A))\n",
    "\n",
    "print(np.linalg.inv(A) @ A)\n",
    "# we see here that some (very small) numerical error has occured in the result of this calculation. This is inevitable when using computer arithmetic."
   ]
  },
  {
   "cell_type": "code",
   "execution_count": 78,
   "metadata": {},
   "outputs": [
    {
     "name": "stdout",
     "output_type": "stream",
     "text": [
      "[ 3.  -0.5]\n",
      "[ 3.  -0.5]\n"
     ]
    }
   ],
   "source": [
    "# If solving a system of linear equations Ax = b, it is usually better to use\n",
    "\n",
    "b = np.array([2, 7])\n",
    "x = np.linalg.solve(A, b)\n",
    "print(x)\n",
    "\n",
    "# which solves the system using a matrix factorisation, as opposed to \n",
    "\n",
    "x = np.linalg.inv(A) @ b\n",
    "print(x)\n",
    "\n",
    "# which directly calculates the inverse. The former is usually faster and more accurate. (In this simple case both give the same solution)."
   ]
  },
  {
   "cell_type": "code",
   "execution_count": 109,
   "metadata": {},
   "outputs": [
    {
     "name": "stdout",
     "output_type": "stream",
     "text": [
      "[[50.24 35.76]\n",
      " [35.76 95.49]]\n",
      "[[6.73816415 2.19935079]\n",
      " [2.19935079 9.52117934]]\n",
      "[[-1.42108547e-14  0.00000000e+00]\n",
      " [ 0.00000000e+00 -1.42108547e-14]]\n",
      "[[7.08801806 5.97996656]\n",
      " [5.97996656 9.77189848]]\n",
      "[[-35.76       -65.06173705]\n",
      " [-65.06173705 -35.76      ]]\n"
     ]
    }
   ],
   "source": [
    "# We can compute the principal square root of a positive (semi-)definite matrix\n",
    "# This is an example where we need scipy.linalg\n",
    "\n",
    "X = np.array([[2, 6, 3.2], [3,0, 9.3]])\n",
    "A = X @ X.T\n",
    "print(A) \n",
    "\n",
    "B = spla.sqrtm(A)\n",
    "print(B) # B is symmetric\n",
    "print(A - B @ B ) # correct up to numerical error\n",
    "\n",
    "# Note that np does include np.sqrt - this is a function that operates elementwise, so we have \n",
    "C = np.sqrt(A) \n",
    "print(C)  # each C[i, j] is sqrt(A[i, j])\n",
    "\n",
    "# but note that C is not a square root of A in the matrix sense\n",
    "print(A - C@C)"
   ]
  },
  {
   "cell_type": "code",
   "execution_count": 113,
   "metadata": {},
   "outputs": [
    {
     "name": "stdout",
     "output_type": "stream",
     "text": [
      "[[7.08801806 0.        ]\n",
      " [5.04513387 8.36878869]]\n",
      "[[-7.10542736e-15  0.00000000e+00]\n",
      " [ 0.00000000e+00  1.42108547e-14]]\n"
     ]
    }
   ],
   "source": [
    "# The Cholesky decomposition is included in numpy\n",
    "L = np.linalg.cholesky(A)\n",
    "print(L)\n",
    "\n",
    "print(L@L.T - A)"
   ]
  },
  {
   "cell_type": "code",
   "execution_count": 120,
   "metadata": {},
   "outputs": [
    {
     "name": "stdout",
     "output_type": "stream",
     "text": [
      "145.73000000000002\n",
      "18003.479272926183\n",
      "18003.479272926183\n",
      "18003.479272926183\n"
     ]
    }
   ],
   "source": [
    "# The trace of a matrix can be caculated using np.trace\n",
    "print(np.trace(A))\n",
    "\n",
    "print(np.trace(A@B@C))\n",
    "print(np.trace(B@C@A))\n",
    "print(np.trace(C@A@B))"
   ]
  }
 ],
 "metadata": {
  "kernelspec": {
   "display_name": "Python 3.10.4 ('py310')",
   "language": "python",
   "name": "python3"
  },
  "language_info": {
   "codemirror_mode": {
    "name": "ipython",
    "version": 3
   },
   "file_extension": ".py",
   "mimetype": "text/x-python",
   "name": "python",
   "nbconvert_exporter": "python",
   "pygments_lexer": "ipython3",
   "version": "3.10.4"
  },
  "orig_nbformat": 4,
  "vscode": {
   "interpreter": {
    "hash": "bd9f3a9c6a65bdf73f575c5ee608940a68140b13a5b0806e66532ca971ed590f"
   }
  }
 },
 "nbformat": 4,
 "nbformat_minor": 2
}
